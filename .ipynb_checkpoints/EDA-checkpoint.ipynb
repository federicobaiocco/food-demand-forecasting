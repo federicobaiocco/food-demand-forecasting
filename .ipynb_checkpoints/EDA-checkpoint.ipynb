{
 "cells": [
  {
   "cell_type": "markdown",
   "metadata": {},
   "source": [
    "# Food Demand Forecasting\n",
    "\n",
    "Your client is a meal delivery company which operates in multiple cities. They have various fulfillment centers in these cities for dispatching meal orders to their customers. The client wants you to help these centers with demand forecasting for upcoming weeks so that these centers will plan the stock of raw materials accordingly.\n",
    "\n",
    "The replenishment of majority of raw materials is done on weekly basis and since the raw material is perishable, the procurement planning is of utmost importance. Secondly, staffing of the centers is also one area wherein accurate demand forecasts are really helpful. Given the following information, the task is to predict the demand for the next 10 weeks (Weeks: 146-155) for the center-meal combinations in the test set:  \n",
    "\n",
    "- Historical data of demand for a product-center combination (Weeks: 1 to 145)\n",
    "- Product(Meal) features such as category, sub-category, current price and discount\n",
    "- Information for fulfillment center like center area, city information etc.\n",
    "\n",
    "## Data Dictionary\n",
    "\n",
    "#### Weekly Demand data (train.csv): Contains the historical demand data for all centers, test.csv contains all the following features except the target variable:\n",
    "- id: Unique ID\n",
    "- week: Week No\n",
    "- center_id: Unique ID for fulfillment center\n",
    "- meal_id: Unique ID for Meal\n",
    "- checkout_price: Final price including discount, taxes & delivery charges\n",
    "- base_price: Base price of the meal\n",
    "- emailer_for_promotion: Emailer sent for promotion of meal\n",
    "- homepage_featured: Meal featured at homepage\n",
    "- num_orders: (Target) Orders Count\n",
    "\n",
    "#### fulfilment_center_info.csv: Contains information for each fulfilment center\n",
    "- center_id: Unique ID for fulfillment center\n",
    "- city_code: Unique code for city\n",
    "- region_code: Unique code for region\n",
    "- center_type: Anonymized center type\n",
    "- op_area: Area of operation (in km^2)\n",
    "\n",
    "#### meal_info.csv: Contains information for each meal being served\n",
    "- meal_id: Unique ID for the meal\n",
    "- category: Type of meal (beverages/snacks/soups….)\n",
    "- cuisine: Meal cuisine (Indian/Italian/…)\n",
    "\n",
    "## Evaluation Metric\n",
    "The evaluation metric for this competition is 100*RMSLE where RMSLE is Root of Mean Squared Logarithmic Error across all entries in the test set."
   ]
  }
 ],
 "metadata": {
  "kernelspec": {
   "display_name": "Python 3",
   "language": "python",
   "name": "python3"
  },
  "language_info": {
   "codemirror_mode": {
    "name": "ipython",
    "version": 3
   },
   "file_extension": ".py",
   "mimetype": "text/x-python",
   "name": "python",
   "nbconvert_exporter": "python",
   "pygments_lexer": "ipython3",
   "version": "3.7.6"
  }
 },
 "nbformat": 4,
 "nbformat_minor": 4
}
